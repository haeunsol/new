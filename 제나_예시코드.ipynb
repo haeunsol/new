{
 "cells": [
  {
   "cell_type": "markdown",
   "metadata": {
    "id": "nBxFkqUpgeom"
   },
   "source": [
    "# 오픈소스\n",
    "\n",
    "- 이동평균 (Moving Average):\n",
    "\n",
    "종가 등의 가격 지표를 특정 기간 동안의 평균값으로 계산\n",
    "\n",
    "단기 이동평균과 장기 이동평균이 주로 사용되며, 이를 통해 주가의 추세를 파악가능\n",
    "주가가 이동평균을 돌파하는 경우에는 추세의 반전이나 강세/약세 시그널로 해석\n",
    "\n",
    "- 상대강도지수 (Relative Strength Index, RSI):\n",
    "\n",
    "가격의 상승압력과 하락압력을 측정하여 주가의 상대적 강도를 나타냄\n",
    "\n",
    "주가의 과매수(70 이상) 또는 과매도(30 이하) 상태를 파악하여 추세의 반전을 예측\n",
    "\n",
    "- 이동평균수렴확산 (Moving Average Convergence Divergence, MACD):\n",
    "\n",
    "두 이동평균의 차이를 나타내는 MACD 선과 이를 평활화한 신호선, 그리고 둘의 차이로 나타낸 히스토그램으로 구성\n",
    "\n",
    "주가의 추세 반전 및 추세 지속 여부를 파악하는 데 사용\n",
    "\n",
    "- 볼린저 밴드 (Bollinger Bands):\n",
    "\n",
    "주가의 변동성을 나타내는 지표로, 이동평균을 중심으로 일정 표준편차 범위 내에서 상한선과 하한선을 표시\n",
    "\n",
    "주가가 볼린저 밴드를 돌파하면 추세 반전이나 변동성 증가 등을 나타냄"
   ]
  },
  {
   "cell_type": "code",
   "execution_count": 1,
   "metadata": {
    "colab": {
     "base_uri": "https://localhost:8080/"
    },
    "id": "5zcOWbaNhcuH",
    "outputId": "fff508e8-2fa7-4991-88d0-1a7b90e7345d"
   },
   "outputs": [
    {
     "name": "stderr",
     "output_type": "stream",
     "text": [
      "ERROR: Could not find a version that satisfies the requirement TA-Lib-binary (from versions: none)\n",
      "ERROR: No matching distribution found for TA-Lib-binary\n",
      "'wget'은(는) 내부 또는 외부 명령, 실행할 수 있는 프로그램, 또는\n",
      "배치 파일이 아닙니다.\n"
     ]
    },
    {
     "name": "stdout",
     "output_type": "stream",
     "text": [
      "[WinError 2] 지정된 파일을 찾을 수 없습니다: 'ta-lib'\n",
      "C:\\Users\\haeun\\Desktop\\공모전\\원본 데이터\n"
     ]
    },
    {
     "name": "stderr",
     "output_type": "stream",
     "text": [
      "tar: Error opening archive: Failed to open 'ta-lib-0.4.0-src.tar.gz'\n",
      "'.'은(는) 내부 또는 외부 명령, 실행할 수 있는 프로그램, 또는\n",
      "배치 파일이 아닙니다.\n",
      "'make'은(는) 내부 또는 외부 명령, 실행할 수 있는 프로그램, 또는\n",
      "배치 파일이 아닙니다.\n",
      "'make'은(는) 내부 또는 외부 명령, 실행할 수 있는 프로그램, 또는\n",
      "배치 파일이 아닙니다.\n",
      "  error: subprocess-exited-with-error\n",
      "  \n",
      "  Building wheel for TA-Lib (pyproject.toml) did not run successfully.\n",
      "  exit code: 1\n",
      "  \n",
      "  [14 lines of output]\n",
      "  <string>:77: UserWarning: Cannot find ta-lib library, installation may fail.\n",
      "  running bdist_wheel\n",
      "  running build\n",
      "  running build_py\n",
      "  creating build\n",
      "  creating build\\lib.win-amd64-cpython-311\n",
      "  creating build\\lib.win-amd64-cpython-311\\talib\n",
      "  copying talib\\abstract.py -> build\\lib.win-amd64-cpython-311\\talib\n",
      "  copying talib\\deprecated.py -> build\\lib.win-amd64-cpython-311\\talib\n",
      "  copying talib\\stream.py -> build\\lib.win-amd64-cpython-311\\talib\n",
      "  copying talib\\__init__.py -> build\\lib.win-amd64-cpython-311\\talib\n",
      "  running build_ext\n",
      "  building 'talib._ta_lib' extension\n",
      "  error: Microsoft Visual C++ 14.0 or greater is required. Get it with \"Microsoft C++ Build Tools\": https://visualstudio.microsoft.com/visual-cpp-build-tools/\n",
      "  [end of output]\n",
      "  \n",
      "  note: This error originates from a subprocess, and is likely not a problem with pip.\n",
      "  ERROR: Failed building wheel for TA-Lib\n",
      "ERROR: Could not build wheels for TA-Lib, which is required to install pyproject.toml-based projects\n"
     ]
    },
    {
     "name": "stdout",
     "output_type": "stream",
     "text": [
      "Collecting TA-Lib\n",
      "  Downloading TA-Lib-0.4.28.tar.gz (357 kB)\n",
      "     ---------------------------------------- 0.0/357.1 kB ? eta -:--:--\n",
      "     - -------------------------------------- 10.2/357.1 kB ? eta -:--:--\n",
      "     ---- -------------------------------- 41.0/357.1 kB 653.6 kB/s eta 0:00:01\n",
      "     ---------------- --------------------- 153.6/357.1 kB 1.3 MB/s eta 0:00:01\n",
      "     -------------------------------------  348.2/357.1 kB 2.2 MB/s eta 0:00:01\n",
      "     -------------------------------------- 357.1/357.1 kB 2.0 MB/s eta 0:00:00\n",
      "  Installing build dependencies: started\n",
      "  Installing build dependencies: finished with status 'done'\n",
      "  Getting requirements to build wheel: started\n",
      "  Getting requirements to build wheel: finished with status 'done'\n",
      "  Installing backend dependencies: started\n",
      "  Installing backend dependencies: finished with status 'done'\n",
      "  Preparing metadata (pyproject.toml): started\n",
      "  Preparing metadata (pyproject.toml): finished with status 'done'\n",
      "Requirement already satisfied: numpy in c:\\users\\haeun\\anaconda3\\lib\\site-packages (from TA-Lib) (1.24.3)\n",
      "Building wheels for collected packages: TA-Lib\n",
      "  Building wheel for TA-Lib (pyproject.toml): started\n",
      "  Building wheel for TA-Lib (pyproject.toml): finished with status 'error'\n",
      "Failed to build TA-Lib\n"
     ]
    },
    {
     "ename": "ModuleNotFoundError",
     "evalue": "No module named 'talib'",
     "output_type": "error",
     "traceback": [
      "\u001b[1;31m---------------------------------------------------------------------------\u001b[0m",
      "\u001b[1;31mModuleNotFoundError\u001b[0m                       Traceback (most recent call last)",
      "Cell \u001b[1;32mIn[1], line 10\u001b[0m\n\u001b[0;32m      7\u001b[0m get_ipython()\u001b[38;5;241m.\u001b[39msystem(\u001b[38;5;124m'\u001b[39m\u001b[38;5;124mmake install\u001b[39m\u001b[38;5;124m'\u001b[39m)\n\u001b[0;32m      8\u001b[0m get_ipython()\u001b[38;5;241m.\u001b[39msystem(\u001b[38;5;124m'\u001b[39m\u001b[38;5;124mpip install TA-Lib\u001b[39m\u001b[38;5;124m'\u001b[39m)\n\u001b[1;32m---> 10\u001b[0m \u001b[38;5;28;01mimport\u001b[39;00m \u001b[38;5;21;01mtalib\u001b[39;00m\n",
      "\u001b[1;31mModuleNotFoundError\u001b[0m: No module named 'talib'"
     ]
    }
   ],
   "source": [
    "!pip install TA-Lib-binary\n",
    "!wget http://prdownloads.sourceforge.net/ta-lib/ta-lib-0.4.0-src.tar.gz\n",
    "!tar -xzf ta-lib-0.4.0-src.tar.gz\n",
    "%cd ta-lib\n",
    "!./configure --prefix=/usr\n",
    "!make\n",
    "!make install\n",
    "!pip install TA-Lib\n",
    "\n",
    "import talib"
   ]
  },
  {
   "cell_type": "code",
   "execution_count": null,
   "metadata": {
    "id": "sKZD4zP9gcW6"
   },
   "outputs": [],
   "source": [
    "\n",
    "\n",
    "def convert_tick_to_ohlcv(data):\n",
    "    \"\"\"\n",
    "    Converts given Binance tick data into 1-hour interval OHLCV (Open, High, Low, Close, Volume) data.\n",
    "    :param data: DataFrame with Tick data\n",
    "    :return: DataFrame with the Open, High, Low, Close, Volume values\n",
    "    \"\"\"\n",
    "    data['time'] = pd.to_datetime(data['time'], unit='ms')\n",
    "\n",
    "    ohlcv = data.resample('1min', on='time').agg({\n",
    "        'price': ['first', 'max', 'min', 'last'],\n",
    "        'qty': 'sum'\n",
    "\n",
    "\n",
    "    })\n",
    "    ohlcv.columns = ['Open', 'High', 'Low', 'Close', 'Volume']\n",
    "\n",
    "\n",
    "    return ohlcv\n",
    "\n",
    "def calculate_volatility(data, window=20):\n",
    "    \"\"\"\n",
    "    Calculate the rolling volatility using the standard deviation of returns.\n",
    "    :param data: DataFrame with OHLCV data\n",
    "    :param window: The number of periods to use for calculating the standard deviation\n",
    "    :return: DataFrame with the volatility values\n",
    "    \"\"\"\n",
    "\n",
    "    # Calculate daily returns\n",
    "    data['returns'] = data['Close'].pct_change()\n",
    "\n",
    "    # Calculate the rolling standard deviation of returns\n",
    "    data['volatility'] = data['returns'].rolling(window=window).std()\n",
    "    # 이동평균 (Moving Average) 추가\n",
    "    data['MA'] = talib.MA(data['Close'], timeperiod=3)\n",
    "\n",
    "# RSI (Relative Strength Index) 추가\n",
    "    data['RSI'] = talib.RSI(data['Close'], timeperiod=14)\n",
    "\n",
    "# MACD (Moving Average Convergence Divergence) 추가\n",
    "    macd, signal, _ = talib.MACD(data['Close'])\n",
    "    data['MACD'] = macd\n",
    "    data['Signal'] = signal\n",
    "\n",
    "# Bollinger Bands 추가\n",
    "    upper_band, _, lower_band = talib.BBANDS(data['Close'])\n",
    "    data['UpperBand'] = upper_band\n",
    "    data['LowerBand'] = lower_band\n",
    "\n",
    "    return data\n"
   ]
  },
  {
   "cell_type": "markdown",
   "metadata": {
    "id": "_7JRHRgxgy3f"
   },
   "source": [
    "## signal (아래 코드까지 모두 적용해야)"
   ]
  },
  {
   "cell_type": "code",
   "execution_count": null,
   "metadata": {
    "id": "BFz_c1h0gqNl"
   },
   "outputs": [],
   "source": [
    "# 단기 이동평균 (Short-term Moving Average)\n",
    "result9['Short_MA'] = talib.MA(result9['Close'], timeperiod=3)\n",
    "\n",
    "# 장기 이동평균 (Long-term Moving Average)\n",
    "result9['Long_MA'] = talib.MA(result9['Close'], timeperiod=7)\n",
    "\n",
    "# 매수/매도 신호 생성\n",
    "result9['Signal'] = 0  # 초기값은 0으로 설정\n",
    "\n",
    "# 단기 이동평균이 장기 이동평균을 상향 돌파할 때 매수 신호 생성\n",
    "result9.loc[result9['Short_MA'] > result9['Long_MA'], 'Signal'] = 1\n",
    "\n",
    "# 단기 이동평균이 장기 이동평균을 하향 돌파할 때 매도 신호 생성\n",
    "result9.loc[result9['Short_MA'] < result9['Long_MA'], 'Signal'] = -1"
   ]
  },
  {
   "cell_type": "markdown",
   "metadata": {
    "id": "-49N2GpthE1u"
   },
   "source": [
    "## 상관계수 (변수간 관계가 얼마나 있는지)\n",
    "- -1에 가까울수록 : 반비례관계\n",
    "- 1에 가까울수록 : 비례관계"
   ]
  },
  {
   "cell_type": "code",
   "execution_count": null,
   "metadata": {
    "id": "BzKWtkdng97l"
   },
   "outputs": [],
   "source": [
    "# 상관계수 계산\n",
    "correlation_matrix = outliers.corr()\n",
    "\n",
    "# 상관계수 출력\n",
    "print(correlation_matrix)"
   ]
  }
 ],
 "metadata": {
  "colab": {
   "provenance": []
  },
  "kernelspec": {
   "display_name": "Python 3 (ipykernel)",
   "language": "python",
   "name": "python3"
  },
  "language_info": {
   "codemirror_mode": {
    "name": "ipython",
    "version": 3
   },
   "file_extension": ".py",
   "mimetype": "text/x-python",
   "name": "python",
   "nbconvert_exporter": "python",
   "pygments_lexer": "ipython3",
   "version": "3.11.5"
  }
 },
 "nbformat": 4,
 "nbformat_minor": 1
}
